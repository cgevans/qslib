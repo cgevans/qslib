{
 "cells": [
  {
   "cell_type": "code",
   "execution_count": 2,
   "id": "1d972ee7-2757-4b0a-a665-c021e8279799",
   "metadata": {},
   "outputs": [],
   "source": [
    "from qslib import *"
   ]
  },
  {
   "cell_type": "code",
   "execution_count": 3,
   "id": "ef80ec61-c9e1-41c1-80b2-e8bda43bd85f",
   "metadata": {},
   "outputs": [
    {
     "data": {
      "text/markdown": [
       "Run Protocol Prot_2022-01-10T19-42-41 with sample volume 50.0 µL and run mode standard:\n",
       "(default filters x3-m5)\n",
       "\n",
       "  1. Stage with 21 cycles (total duration 19m57s) of [80.00 80.00 80.00 80.00 80.00 80.00] °C to [60.00 60.00 60.00 60.00 60.00 60.00] °C for 57.0 second/cycle, -1.0 delta_degree_Celsius°C/cycle from cycle 2\n",
       "  2. Stage with 1 cycle (total duration 120s) of [60.00 60.00 60.00 60.00 60.00 60.00] °C for 120 second/cycle\n",
       "  3. Stage with 31 cycles (total duration 59m56s) of [60.00 60.00 60.00 60.00 60.00 60.00] °C to [30.00 30.00 30.00 30.00 30.00 30.00] °C for 116.0 second/cycle, -1.0 delta_degree_Celsius°C/cycle from cycle 2 (collects default)\n",
       "  4. Stage with 16 cycles (total duration 60m) of [30.00 30.00 30.00 30.00 30.00 30.00] °C to [60.00 60.00 60.00 60.00 60.00 60.00] °C for 225.0 second/cycle, 2.0 delta_degree_Celsius°C/cycle from cycle 2 (collects default)\n",
       "  5. Stage with 3 cycles (total duration 9m) of [60.00 60.00 60.00 60.00 60.00 60.00] °C for 3 minute/cycle (collects x1-m4, x3-m5)\n",
       "  6. Stage with 1 cycle (total duration 40m) of:\n",
       "      1. [60.00 60.00 60.00 60.00 60.00 60.00] °C for 480.0 second/cycle (collects x1-m4)\n",
       "      2. [57.50 57.25 57.00 56.75 56.50 56.25] °C for 480.0 second/cycle (collects x1-m4)\n",
       "      3. [55.00 54.50 54.00 53.50 53.00 52.50] °C for 480.0 second/cycle (collects x1-m4)\n",
       "      4. [52.50 51.75 51.00 50.25 49.50 48.75] °C for 480.0 second/cycle (collects x1-m4)\n",
       "      5. [50.00 49.00 48.00 47.00 46.00 45.00] °C for 480.0 second/cycle (collects x1-m4)\n",
       "  7. Stage with 6 cycles (total duration 60m) of [50.00 49.00 48.00 47.00 46.00 45.00] °C for 10 minute/cycle (collects x1-m4)\n",
       "  8. Stage with 6 cycles (total duration 60m) of [50.00 49.00 48.00 47.00 46.00 45.00] °C for 10 minute/cycle (collects x1-m4)"
      ],
      "text/plain": [
       "Protocol(stages=[Stage(steps=Step(time=<Quantity(57.0, 'second')>, temperature=<Quantity(80, 'degree_Celsius')>, collect=None, temp_increment=<Quantity(-1.0, 'delta_degree_Celsius')>, temp_incrementcycle=2, time_increment=<Quantity(0, 'second')>, time_incrementcycle=2, filters=[], pcr=False, quant=True, tiff=False), repeat=21), Stage(steps=Step(time=<Quantity(120, 'second')>, temperature=<Quantity(60, 'degree_Celsius')>, collect=None, temp_increment=<Quantity(0.0, 'delta_degree_Celsius')>, temp_incrementcycle=2, time_increment=<Quantity(0, 'second')>, time_incrementcycle=2, filters=[], pcr=False, quant=True, tiff=False)), Stage(steps=Step(time=<Quantity(116.0, 'second')>, temperature=<Quantity(60.0, 'degree_Celsius')>, collect=True, temp_increment=<Quantity(-1.0, 'delta_degree_Celsius')>, temp_incrementcycle=2, time_increment=<Quantity(0, 'second')>, time_incrementcycle=2, filters=[], pcr=False, quant=True, tiff=False), repeat=31), Stage(steps=Step(time=<Quantity(225.0, 'second')>, temperature=<Quantity(30, 'degree_Celsius')>, collect=True, temp_increment=<Quantity(2.0, 'delta_degree_Celsius')>, temp_incrementcycle=2, time_increment=<Quantity(0, 'second')>, time_incrementcycle=2, filters=[], pcr=False, quant=True, tiff=False), repeat=16), Stage(steps=Step(time=<Quantity(3, 'minute')>, temperature=<Quantity(60, 'degree_Celsius')>, collect=None, temp_increment=<Quantity(0.0, 'delta_degree_Celsius')>, temp_incrementcycle=2, time_increment=<Quantity(0, 'second')>, time_incrementcycle=2, filters=[FilterSet(ex=1, em=4, quant=True), FilterSet(ex=3, em=5, quant=True)], pcr=False, quant=True, tiff=False), repeat=3), Stage(steps=[Step(time=<Quantity(480.0, 'second')>, temperature=<Quantity([60. 60. 60. 60. 60. 60.], 'degree_Celsius')>, collect=None, temp_increment=<Quantity(0.0, 'delta_degree_Celsius')>, temp_incrementcycle=2, time_increment=<Quantity(0, 'second')>, time_incrementcycle=2, filters=[FilterSet(ex=1, em=4, quant=True)], pcr=False, quant=True, tiff=False), Step(time=<Quantity(480.0, 'second')>, temperature=<Quantity([57.5  57.25 57.   56.75 56.5  56.25], 'degree_Celsius')>, collect=None, temp_increment=<Quantity(0.0, 'delta_degree_Celsius')>, temp_incrementcycle=2, time_increment=<Quantity(0, 'second')>, time_incrementcycle=2, filters=[FilterSet(ex=1, em=4, quant=True)], pcr=False, quant=True, tiff=False), Step(time=<Quantity(480.0, 'second')>, temperature=<Quantity([55.  54.5 54.  53.5 53.  52.5], 'degree_Celsius')>, collect=None, temp_increment=<Quantity(0.0, 'delta_degree_Celsius')>, temp_incrementcycle=2, time_increment=<Quantity(0, 'second')>, time_incrementcycle=2, filters=[FilterSet(ex=1, em=4, quant=True)], pcr=False, quant=True, tiff=False), Step(time=<Quantity(480.0, 'second')>, temperature=<Quantity([52.5  51.75 51.   50.25 49.5  48.75], 'degree_Celsius')>, collect=None, temp_increment=<Quantity(0.0, 'delta_degree_Celsius')>, temp_incrementcycle=2, time_increment=<Quantity(0, 'second')>, time_incrementcycle=2, filters=[FilterSet(ex=1, em=4, quant=True)], pcr=False, quant=True, tiff=False), Step(time=<Quantity(480.0, 'second')>, temperature=<Quantity([50. 49. 48. 47. 46. 45.], 'degree_Celsius')>, collect=None, temp_increment=<Quantity(0.0, 'delta_degree_Celsius')>, temp_incrementcycle=2, time_increment=<Quantity(0, 'second')>, time_incrementcycle=2, filters=[FilterSet(ex=1, em=4, quant=True)], pcr=False, quant=True, tiff=False)]), Stage(steps=Step(time=<Quantity(10, 'minute')>, temperature=<Quantity([50 49 48 47 46 45], 'degree_Celsius')>, collect=None, temp_increment=<Quantity(0.0, 'delta_degree_Celsius')>, temp_incrementcycle=2, time_increment=<Quantity(0, 'second')>, time_incrementcycle=2, filters=[FilterSet(ex=1, em=4, quant=True)], pcr=False, quant=True, tiff=False), repeat=6), Stage(steps=Step(time=<Quantity(10, 'minute')>, temperature=<Quantity([50 49 48 47 46 45], 'degree_Celsius')>, collect=None, temp_increment=<Quantity(0.0, 'delta_degree_Celsius')>, temp_incrementcycle=2, time_increment=<Quantity(0, 'second')>, time_incrementcycle=2, filters=[FilterSet(ex=1, em=4, quant=True)], pcr=False, quant=True, tiff=False), repeat=6)], name='Prot_2022-01-10T19-42-41', volume=50.0, runmode='standard', filters=[FilterSet(ex=3, em=5, quant=True)], covertemperature=105.0, _classname='Protocol')"
      ]
     },
     "execution_count": 3,
     "metadata": {},
     "output_type": "execute_result"
    }
   ],
   "source": [
    "protocol = Protocol(\n",
    "    [\n",
    "        Stage.stepped_ramp(\n",
    "            \"80 °C\", 60, \"20 minutes\"\n",
    "        ),  # A unitless temperature is degrees Celsius\n",
    "        Stage.hold_for(\"60 degC\", total_time=120),  # A unitless time is seconds\n",
    "        Stage.stepped_ramp(\n",
    "            from_temperature=60.0,\n",
    "            to_temperature=30.0,\n",
    "            total_time=\"1 hour\",\n",
    "            collect=True,\n",
    "        ),\n",
    "        # Collects the protocol default\n",
    "        Stage.stepped_ramp(\n",
    "            from_temperature=30,\n",
    "            to_temperature=60.0,\n",
    "            total_time=\"1 hour\",\n",
    "            temperature_step=2,\n",
    "            collect=True,\n",
    "        ),\n",
    "        Stage.hold_for(\n",
    "            \"60 degC\",\n",
    "            total_time=\"9 minutes\",\n",
    "            step_time=\"3 minutes\",\n",
    "            filters=[\"x1-m4\", \"x3-m5\"],\n",
    "        ),  # Collects a different set of filters\n",
    "        Stage.stepped_ramp(\n",
    "            60,\n",
    "            [50, 49, 48, 47, 46, 45],\n",
    "            total_time=\"40 minutes\",\n",
    "            filters=[\"x1-m4\"],\n",
    "            n_steps=5,\n",
    "        ),  # Try this in AB's software!\n",
    "        Stage.hold_for(\n",
    "            [50, 49, 48, 47, 46, 45],\n",
    "            total_time=\"1 hour\",\n",
    "            step_time=\"10 minutes\",\n",
    "            filters=[\"x1-m4\"],\n",
    "        ),\n",
    "        Stage(\n",
    "            [Step(\"10 minutes\", [50, 49, 48, 47, 46, 45], filters=[\"x1-m4\"])], repeat=6\n",
    "        ),  # An alternative\n",
    "    ],\n",
    "    filters=[\"x3-m5\"],\n",
    ")\n",
    "protocol"
   ]
  },
  {
   "cell_type": "code",
   "execution_count": 4,
   "id": "30af221f-991c-414a-ba44-6edd46d9dc6d",
   "metadata": {},
   "outputs": [
    {
     "data": {
      "image/png": "[encoded data removed]",
      "text/plain": [
       "<Figure size 432x288 with 1 Axes>"
      ]
     },
     "metadata": {
      "needs_background": "light"
     },
     "output_type": "display_data"
    }
   ],
   "source": [
    "protocol.plot_protocol();"
   ]
  },
  {
   "cell_type": "code",
   "execution_count": 5,
   "id": "5ba82546-4f89-4753-94b6-f1aa3f8da816",
   "metadata": {},
   "outputs": [],
   "source": [
    "platesetup = PlateSetup({\"sample_A\": \"A1\", \"sample_B\": [\"A2\", \"A3\"]})"
   ]
  },
  {
   "cell_type": "code",
   "execution_count": 6,
   "id": "900d038e-6a0a-47fb-96f5-e063dbef9902",
   "metadata": {},
   "outputs": [],
   "source": [
    "exp = Experiment(\"example-experiment\", protocol, platesetup)"
   ]
  },
  {
   "cell_type": "code",
   "execution_count": 7,
   "id": "387cd1f5-d71b-4f67-b38b-88a3527896cc",
   "metadata": {},
   "outputs": [
    {
     "data": {
      "text/markdown": [
       "# QS Experiment example-experiment (INIT)\n",
       "\n",
       "Run Protocol Prot_2022-01-10T19-42-41 with sample volume 50.0 µL and run mode standard:\n",
       "(default filters x3-m5)\n",
       "\n",
       "  1. Stage with 21 cycles (total duration 19m57s) of [80.00 80.00 80.00 80.00 80.00 80.00] °C to [60.00 60.00 60.00 60.00 60.00 60.00] °C for 57.0 second/cycle, -1.0 delta_degree_Celsius°C/cycle from cycle 2\n",
       "  2. Stage with 1 cycle (total duration 120s) of [60.00 60.00 60.00 60.00 60.00 60.00] °C for 120 second/cycle\n",
       "  3. Stage with 31 cycles (total duration 59m56s) of [60.00 60.00 60.00 60.00 60.00 60.00] °C to [30.00 30.00 30.00 30.00 30.00 30.00] °C for 116.0 second/cycle, -1.0 delta_degree_Celsius°C/cycle from cycle 2 (collects default)\n",
       "  4. Stage with 16 cycles (total duration 60m) of [30.00 30.00 30.00 30.00 30.00 30.00] °C to [60.00 60.00 60.00 60.00 60.00 60.00] °C for 225.0 second/cycle, 2.0 delta_degree_Celsius°C/cycle from cycle 2 (collects default)\n",
       "  5. Stage with 3 cycles (total duration 9m) of [60.00 60.00 60.00 60.00 60.00 60.00] °C for 3 minute/cycle (collects x1-m4, x3-m5)\n",
       "  6. Stage with 1 cycle (total duration 40m) of:\n",
       "      1. [60.00 60.00 60.00 60.00 60.00 60.00] °C for 480.0 second/cycle (collects x1-m4)\n",
       "      2. [57.50 57.25 57.00 56.75 56.50 56.25] °C for 480.0 second/cycle (collects x1-m4)\n",
       "      3. [55.00 54.50 54.00 53.50 53.00 52.50] °C for 480.0 second/cycle (collects x1-m4)\n",
       "      4. [52.50 51.75 51.00 50.25 49.50 48.75] °C for 480.0 second/cycle (collects x1-m4)\n",
       "      5. [50.00 49.00 48.00 47.00 46.00 45.00] °C for 480.0 second/cycle (collects x1-m4)\n",
       "  7. Stage with 6 cycles (total duration 60m) of [50.00 49.00 48.00 47.00 46.00 45.00] °C for 10 minute/cycle (collects x1-m4)\n",
       "  8. Stage with 6 cycles (total duration 60m) of [50.00 49.00 48.00 47.00 46.00 45.00] °C for 10 minute/cycle (collects x1-m4)\n",
       "\n",
       "Plate setup:\n",
       "\n",
       " - sample_A: ['A1']\n",
       " - sample_B: ['A2', 'A3']\n",
       "\n",
       "- Created: 2022-01-10 19:43:08.510604\n",
       "- Written by: QSLib 0.5.0.post1.dev5+g6c3de52.d20220111\n",
       "- Read by: QSLib 0.5.0.post1.dev5+g6c3de52.d20220111\n"
      ],
      "text/plain": [
       "<qslib.experiment.Experiment at 0x7f49a006e440>"
      ]
     },
     "execution_count": 7,
     "metadata": {},
     "output_type": "execute_result"
    }
   ],
   "source": [
    "exp"
   ]
  },
  {
   "cell_type": "code",
   "execution_count": 10,
   "id": "1264fe69-f63b-408e-9eed-19bdf623f230",
   "metadata": {},
   "outputs": [
    {
     "data": {
      "text/plain": [
       "RunStatus(name='-', stage=-1, num_stages=-1, cycle=-1, num_cycles=-1, step=-1, point=0, state='Idle')"
      ]
     },
     "execution_count": 10,
     "metadata": {},
     "output_type": "execute_result"
    }
   ],
   "source": [
    "Machine(\"example-machine\").run_status()"
   ]
  },
  {
   "cell_type": "code",
   "execution_count": 11,
   "id": "020c54ea-a3ed-447a-b1b1-dc3d2e37c43c",
   "metadata": {},
   "outputs": [],
   "source": [
    "exp.run(\"example-machine\")"
   ]
  },
  {
   "cell_type": "code",
   "execution_count": 12,
   "id": "60a96869-5620-4687-a03d-3912dcdbeb37",
   "metadata": {},
   "outputs": [],
   "source": [
    "exp.sync_from_machine()"
   ]
  },
  {
   "cell_type": "code",
   "execution_count": 13,
   "id": "f36b79bf-758b-4258-8d29-547d7c29bcf8",
   "metadata": {},
   "outputs": [],
   "source": [
    "exp.abort()"
   ]
  },
  {
   "cell_type": "code",
   "execution_count": null,
   "id": "9628f48a-a5f9-4db3-a5f5-df691b89970c",
   "metadata": {},
   "outputs": [],
   "source": [
    "Machine(\"example-machine\").list_runs_in_storage()"
   ]
  },
  {
   "cell_type": "code",
   "execution_count": 15,
   "id": "fcc8306b-7dd6-4f88-83c2-40e7d0c9af2e",
   "metadata": {},
   "outputs": [],
   "source": [
    "done_exp = Experiment.from_machine(\"qpcr1\", \"a-run-name\")"
   ]
  },
  {
   "cell_type": "markdown",
   "id": "5d681572-9e06-44ba-9302-22aa3a62293f",
   "metadata": {},
   "source": [
    "Or"
   ]
  },
  {
   "cell_type": "code",
   "execution_count": null,
   "id": "2dd39b2f-6678-48a1-9604-bce805c8b409",
   "metadata": {},
   "outputs": [],
   "source": [
    "done_exp = Experiment.from_file(\"file_name.eds\")"
   ]
  },
  {
   "cell_type": "code",
   "execution_count": null,
   "id": "f446e76d-a86a-4c25-b591-dd2a8d7a9c4a",
   "metadata": {},
   "outputs": [],
   "source": [
    "done_exp.plot_protocol()"
   ]
  },
  {
   "cell_type": "code",
   "execution_count": null,
   "id": "1d54c29f-8956-42c0-af55-4a4a6bdfcc1a",
   "metadata": {},
   "outputs": [],
   "source": [
    "done_exp.plot_anneal_melt()"
   ]
  },
  {
   "cell_type": "code",
   "execution_count": null,
   "id": "10c54f29-ada5-481d-8034-7a85280f3928",
   "metadata": {},
   "outputs": [],
   "source": [
    "done_exp.plot_over_time()"
   ]
  },
  {
   "cell_type": "code",
   "execution_count": null,
   "id": "6875a9eb-e494-4c5a-bd13-7224fcc2f3be",
   "metadata": {},
   "outputs": [],
   "source": []
  }
 ],
 "metadata": {
  "kernelspec": {
   "display_name": "Python 3 (ipykernel)",
   "language": "python",
   "name": "python3"
  },
  "language_info": {
   "codemirror_mode": {
    "name": "ipython",
    "version": 3
   },
   "file_extension": ".py",
   "mimetype": "text/x-python",
   "name": "python",
   "nbconvert_exporter": "python",
   "pygments_lexer": "ipython3",
   "version": "3.10.1"
  }
 },
 "nbformat": 4,
 "nbformat_minor": 5
}
